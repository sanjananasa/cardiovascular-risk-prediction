{
  "nbformat": 4,
  "nbformat_minor": 0,
  "metadata": {
    "colab": {
      "private_outputs": true,
      "provenance": [],
      "collapsed_sections": [
        "vncDsAP0Gaoa",
        "FJNUwmbgGyua",
        "w6K7xa23Elo4",
        "yQaldy8SH6Dl",
        "mDgbUHAGgjLW",
        "O_i_v8NEhb9l",
        "HhfV-JJviCcP",
        "Y3lxredqlCYt",
        "3RnN4peoiCZX",
        "x71ZqKXriCWQ",
        "7hBIi_osiCS2",
        "JlHwYmJAmNHm",
        "35m5QtbWiB9F",
        "PoPl-ycgm1ru",
        "H0kj-8xxnORC",
        "nA9Y7ga8ng1Z",
        "PBTbrJXOngz2",
        "u3PMJOP6ngxN",
        "dauF4eBmngu3",
        "bKJF3rekwFvQ",
        "MSa1f5Uengrz",
        "GF8Ens_Soomf",
        "0wOQAZs5pc--",
        "K5QZ13OEpz2H",
        "lQ7QKXXCp7Bj",
        "448CDAPjqfQr",
        "KSlN3yHqYklG",
        "t6dVpIINYklI",
        "ijmpgYnKYklI",
        "-JiQyfWJYklI",
        "EM7whBJCYoAo",
        "fge-S5ZAYoAp",
        "85gYPyotYoAp",
        "RoGjAbkUYoAp",
        "4Of9eVA-YrdM",
        "iky9q4vBYrdO",
        "F6T5p64dYrdO",
        "y-Ehk30pYrdP",
        "bamQiAODYuh1",
        "QHF8YVU7Yuh3",
        "GwzvFGzlYuh3",
        "qYpmQ266Yuh3",
        "OH-pJp9IphqM",
        "bbFf2-_FphqN",
        "_ouA3fa0phqN",
        "Seke61FWphqN",
        "PIIx-8_IphqN",
        "t27r6nlMphqO",
        "r2jJGEOYphqO",
        "b0JNsNcRphqO",
        "BZR9WyysphqO",
        "jj7wYXLtphqO",
        "eZrbJ2SmphqO",
        "rFu4xreNphqO",
        "YJ55k-q6phqO",
        "gCFgpxoyphqP",
        "OVtJsKN_phqQ",
        "lssrdh5qphqQ",
        "U2RJ9gkRphqQ",
        "1M8mcRywphqQ",
        "tgIPom80phqQ",
        "JMzcOPDDphqR",
        "x-EpHcCOp1ci",
        "X_VqEhTip1ck",
        "8zGJKyg5p1ck",
        "PVzmfK_Ep1ck",
        "n3dbpmDWp1ck",
        "ylSl6qgtp1ck",
        "ZWILFDl5p1ck",
        "M7G43BXep1ck",
        "Ag9LCva-p1cl",
        "E6MkPsBcp1cl",
        "2cELzS2fp1cl",
        "3MPXvC8up1cl",
        "NC_X3p0fY2L0",
        "UV0SzAkaZNRQ",
        "YPEH6qLeZNRQ",
        "q29F0dvdveiT",
        "EXh0U9oCveiU",
        "22aHeOlLveiV",
        "g-ATYxFrGrvw",
        "Yfr_Vlr8HBkt",
        "8yEUt7NnHlrM",
        "tEA2Xm5dHt1r",
        "I79__PHVH19G",
        "Ou-I18pAyIpj",
        "fF3858GYyt-u",
        "4_0_7-oCpUZd",
        "hwyV_J3ipUZe",
        "3yB-zSqbpUZe",
        "dEUvejAfpUZe",
        "Fd15vwWVpUZf",
        "bn_IUdTipZyH",
        "49K5P_iCpZyH",
        "Nff-vKELpZyI",
        "kLW572S8pZyI",
        "dWbDXHzopZyI",
        "yLjJCtPM0KBk",
        "xiyOF9F70UgQ",
        "7wuGOrhz0itI",
        "id1riN9m0vUs",
        "578E2V7j08f6",
        "89xtkJwZ18nB",
        "67NQN5KX2AMe",
        "Iwf50b-R2tYG",
        "GMQiZwjn3iu7",
        "WVIkgGqN3qsr",
        "XkPnILGE3zoT",
        "Hlsf0x5436Go",
        "mT9DMSJo4nBL",
        "c49ITxTc407N",
        "OeJFEK0N496M",
        "9ExmJH0g5HBk",
        "cJNqERVU536h",
        "k5UmGsbsOxih",
        "T0VqWOYE6DLQ",
        "qBMux9mC6MCf",
        "-oLEiFgy-5Pf",
        "C74aWNz2AliB",
        "2DejudWSA-a0",
        "pEMng2IbBLp7",
        "rAdphbQ9Bhjc",
        "TNVZ9zx19K6k",
        "nqoHp30x9hH9",
        "rMDnDkt2B6du",
        "yiiVWRdJDDil",
        "1UUpS68QDMuG",
        "kexQrXU-DjzY",
        "T5CmagL3EC8N",
        "BhH2vgX9EjGr",
        "qjKvONjwE8ra",
        "P1XJ9OREExlT",
        "VFOzZv6IFROw",
        "TIqpNgepFxVj",
        "VfCC591jGiD4",
        "OB4l2ZhMeS1U",
        "ArJBuiUVfxKd",
        "4qY1EAkEfxKe",
        "PiV4Ypx8fxKe",
        "TfvqoZmBfxKf",
        "dJ2tPlVmpsJ0",
        "JWYfwnehpsJ1",
        "-jK_YjpMpsJ2",
        "HAih1iBOpsJ2",
        "zVGeBEFhpsJ2",
        "bmKjuQ-FpsJ3",
        "Fze-IPXLpx6K",
        "7AN1z2sKpx6M",
        "9PIHJqyupx6M",
        "_-qAgymDpx6N",
        "Z-hykwinpx6N",
        "h_CCil-SKHpo",
        "cBFFvTBNJzUa",
        "HvGl1hHyA_VK",
        "EyNgTHvd2WFk",
        "KH5McJBi2d8v",
        "iW_Lq9qf2h6X",
        "-Kee-DAl2viO",
        "gCX9965dhzqZ",
        "gIfDvo9L0UH2"
      ],
      "include_colab_link": true
    },
    "kernelspec": {
      "name": "python3",
      "display_name": "Python 3"
    },
    "language_info": {
      "name": "python"
    }
  },
  "cells": [
    {
      "cell_type": "markdown",
      "metadata": {
        "id": "view-in-github",
        "colab_type": "text"
      },
      "source": [
        "<a href=\"https://colab.research.google.com/github/sanjananasa/cardiovascular-risk-prediction/blob/main/CardioVascular_Risk_Prediction_(Classification_Capstone_Project).ipynb\" target=\"_parent\"><img src=\"https://colab.research.google.com/assets/colab-badge.svg\" alt=\"Open In Colab\"/></a>"
      ]
    },
    {
      "cell_type": "markdown",
      "source": [
        "# **Project Name**    - CardioVascular Disease Risk Prediction\n",
        "\n"
      ],
      "metadata": {
        "id": "vncDsAP0Gaoa"
      }
    },
    {
      "cell_type": "markdown",
      "source": [
        "## **Project Type**    - Classification\n",
        "## **Contribution**    - Individual\n",
        "## **Name**- Sanjana Nasa"
      ],
      "metadata": {
        "id": "beRrZCGUAJYm"
      }
    },
    {
      "cell_type": "markdown",
      "source": [],
      "metadata": {
        "id": "FUWrq34OP_f3"
      }
    },
    {
      "cell_type": "markdown",
      "source": [
        "# **Project Summary -**"
      ],
      "metadata": {
        "id": "FJNUwmbgGyua"
      }
    },
    {
      "cell_type": "markdown",
      "source": [
        "#The goal of this project is to use Machine Learning techniques to predict whether the patient has a 10-year risk of future coronary heart disease (CHD). The dataset provides the patients’ information. It includes over 4,000 records and 16 attributes. Each attribute is a potential risk factor. There are demographic, behavioral, and medical risk factors.\n",
        "\n",
        "#To prepare the data for analysis, extensive processing is performed to clean and transform data.This includes handling missing values, using median,mode and KNN imputation techniques, identifying and removing outliers. Skewed continuous variables were transformed using log transformation and improve model performance.\n",
        "\n",
        "#Feature selection is performed using VIF method to remove multicollinearity. Few new variables were created and redundant variables were removed."
      ],
      "metadata": {
        "id": "F6v_1wHtG2nS"
      }
    },
    {
      "cell_type": "markdown",
      "source": [
        "# **GitHub Link -**"
      ],
      "metadata": {
        "id": "w6K7xa23Elo4"
      }
    },
    {
      "cell_type": "markdown",
      "source": [
        "Provide your GitHub Link here."
      ],
      "metadata": {
        "id": "h1o69JH3Eqqn"
      }
    },
    {
      "cell_type": "markdown",
      "source": [
        "# **Problem Statement**\n"
      ],
      "metadata": {
        "id": "yQaldy8SH6Dl"
      }
    },
    {
      "cell_type": "markdown",
      "source": [
        "**What exactly are cardiovascular diseases?**\n",
        "\n",
        "A group of conditions affecting the heart and blood vessels is known as cardiovascular diseases. They consist of heart disease, which affects the blood vessels that supply the heart muscle. The majority of the time, a blockage that prevents blood from flowing to the heart or brain is to blame for heart attacks and strokes, which are typically sudden events. A buildup of fatty deposits on the inner walls of the blood vessels that supply the heart or brain is the most common cause of this."
      ],
      "metadata": {
        "id": "tLK63pmBkFYB"
      }
    },
    {
      "cell_type": "markdown",
      "source": [
        "**WHY DO WE NEED CARDIOVASCULAR RISK PREDICTION?**\n",
        "\n",
        "The greatest obstacle facing the medical industry is accurately predicting and diagnosing heart disease. Heart diseases are influenced by numerous factors.\n",
        "\n",
        "Heart disease is even referred to as a \"silent killer\" because it kills people without showing any obvious symptoms.\n",
        "\n",
        "When high-risk patients are diagnosed with heart disease early, it is easier to make lifestyle changes, which in turn lowers the risk of complications.\n",
        "Based on the way people currently live, machine learning can help predict the likelihood of heart disease in the coming years."
      ],
      "metadata": {
        "id": "DpeJGUA3kjGy"
      }
    },
    {
      "cell_type": "markdown",
      "source": [
        "# ***Let's Begin !***"
      ],
      "metadata": {
        "id": "O_i_v8NEhb9l"
      }
    },
    {
      "cell_type": "markdown",
      "source": [
        "## ***1. Know Your Data***"
      ],
      "metadata": {
        "id": "HhfV-JJviCcP"
      }
    },
    {
      "cell_type": "markdown",
      "source": [
        "### Import Libraries"
      ],
      "metadata": {
        "id": "Y3lxredqlCYt"
      }
    },
    {
      "cell_type": "code",
      "source": [
        "# Import Libraries\n",
        "import pandas as pd\n",
        "import numpy as np\n",
        "from datetime import datetime as dt\n",
        "\n",
        "import seaborn as sns\n",
        "import matplotlib.pyplot as plt\n",
        "%matplotlib inline\n",
        "\n",
        "\n",
        "# Importing warnings library. Would help to throw away warnings caused.\n",
        "import warnings\n",
        "warnings.filterwarnings('ignore')"
      ],
      "metadata": {
        "id": "M8Vqi-pPk-HR"
      },
      "execution_count": null,
      "outputs": []
    },
    {
      "cell_type": "markdown",
      "source": [
        "### Dataset Loading"
      ],
      "metadata": {
        "id": "3RnN4peoiCZX"
      }
    },
    {
      "cell_type": "code",
      "source": [
        "# Load Dataset"
      ],
      "metadata": {
        "id": "4CkvbW_SlZ_R"
      },
      "execution_count": null,
      "outputs": []
    },
    {
      "cell_type": "code",
      "source": [
        "from google.colab import drive\n",
        "drive.mount('/content/drive')"
      ],
      "metadata": {
        "id": "kJRtcqNXnPPS"
      },
      "execution_count": null,
      "outputs": []
    },
    {
      "cell_type": "code",
      "source": [
        "data=pd.read_csv(\"/content/drive/MyDrive/data_cardiovascular_risk.csv\")"
      ],
      "metadata": {
        "id": "yahb5P_wnW7H"
      },
      "execution_count": null,
      "outputs": []
    },
    {
      "cell_type": "markdown",
      "source": [
        "### Dataset First View"
      ],
      "metadata": {
        "id": "x71ZqKXriCWQ"
      }
    },
    {
      "cell_type": "code",
      "source": [
        "# Dataset First Look\n",
        "#first five rows of the dataset\n",
        "data.head()\n"
      ],
      "metadata": {
        "id": "LWNFOSvLl09H"
      },
      "execution_count": null,
      "outputs": []
    },
    {
      "cell_type": "code",
      "source": [
        "#last five rows of the dataset\n",
        "data.tail()"
      ],
      "metadata": {
        "id": "cR11bf3-nzWn"
      },
      "execution_count": null,
      "outputs": []
    },
    {
      "cell_type": "markdown",
      "source": [
        "### Dataset Rows & Columns count"
      ],
      "metadata": {
        "id": "7hBIi_osiCS2"
      }
    },
    {
      "cell_type": "code",
      "source": [
        "# Dataset Rows & Columns count\n",
        "data.shape\n",
        "print(\"number of rows\",data.shape[0])\n",
        "print(\"number of columns\",data.shape[1])"
      ],
      "metadata": {
        "id": "Kllu7SJgmLij"
      },
      "execution_count": null,
      "outputs": []
    },
    {
      "cell_type": "markdown",
      "source": [
        "### Dataset Information"
      ],
      "metadata": {
        "id": "JlHwYmJAmNHm"
      }
    },
    {
      "cell_type": "code",
      "source": [
        "# Dataset Info\n",
        "data.info()"
      ],
      "metadata": {
        "id": "e9hRXRi6meOf"
      },
      "execution_count": null,
      "outputs": []
    },
    {
      "cell_type": "markdown",
      "source": [
        "#### Duplicate Values"
      ],
      "metadata": {
        "id": "35m5QtbWiB9F"
      }
    },
    {
      "cell_type": "code",
      "source": [
        "# Dataset Duplicate Value Count\n",
        "data.duplicated().sum()"
      ],
      "metadata": {
        "id": "1sLdpKYkmox0"
      },
      "execution_count": null,
      "outputs": []
    },
    {
      "cell_type": "markdown",
      "source": [
        "#### Missing Values/Null Values"
      ],
      "metadata": {
        "id": "PoPl-ycgm1ru"
      }
    },
    {
      "cell_type": "code",
      "source": [
        "# Missing Values/Null Values Count\n",
        "miss_val=data.isnull().sum().sort_values(ascending=False)\n",
        "print(miss_val)"
      ],
      "metadata": {
        "id": "GgHWkxvamxVg"
      },
      "execution_count": null,
      "outputs": []
    },
    {
      "cell_type": "code",
      "source": [
        "# Visualizing the missing values\n",
        "import missingno as msno\n",
        "msno.matrix(data)\n",
        "plt.show()"
      ],
      "metadata": {
        "id": "3q5wnI3om9sJ"
      },
      "execution_count": null,
      "outputs": []
    },
    {
      "cell_type": "markdown",
      "source": [
        "## ***2. Understanding Your Variables***"
      ],
      "metadata": {
        "id": "nA9Y7ga8ng1Z"
      }
    },
    {
      "cell_type": "code",
      "source": [
        "# Dataset Columns\n",
        "data.columns"
      ],
      "metadata": {
        "id": "j7xfkqrt5Ag5"
      },
      "execution_count": null,
      "outputs": []
    },
    {
      "cell_type": "code",
      "source": [
        "# Dataset Describe\n",
        "data.describe().round(2)"
      ],
      "metadata": {
        "id": "DnOaZdaE5Q5t"
      },
      "execution_count": null,
      "outputs": []
    },
    {
      "cell_type": "markdown",
      "source": [
        "### Variables Description"
      ],
      "metadata": {
        "id": "PBTbrJXOngz2"
      }
    },
    {
      "cell_type": "markdown",
      "source": [
        "#**Demographic**\n",
        "\n",
        "**age** : Age of the patient (Continuous - Although the recorded ages have been truncated to whole numbers, the concept of age is continuous)\n",
        "\n",
        "**education** : level of education from 1 to 4 (Ordinal Variable)\n",
        "\n",
        "**sex** : male or female (\"M\" or \"F\")\n",
        "\n",
        "\n",
        "#**Behavioral**\n",
        "\n",
        "**is_smoking** : whether or not the patient is a current smoker (\"YES\" or \"NO\")\n",
        "\n",
        "**cigsPerDay** : the number of cigarettes that the person smoked on average in one day (can be considered continuous as one can have any number of cigarettes, even half a cigarette.)\n",
        "\n",
        "\n",
        "#**Medical( history)**\n",
        "\n",
        "**BPMeds** : whether or not the patient was on blood pressure medication (Nominal)\n",
        "\n",
        "**prevalentStroke** : whether or not the patient had previously had a stroke (Nominal)\n",
        "\n",
        "**prevalentHyp** : whether or not the patient was hypertensive (Nominal)\n",
        "\n",
        "**diabetes** : whether or not the patient had diabetes (Nominal)\n",
        "\n",
        "\n",
        "#**Medical(current)**\n",
        "\n",
        "**totChol** : total cholesterol level (Continuous)\n",
        "\n",
        "**sysBP** : systolic blood pressure (Continuous)\n",
        "\n",
        "**diaBP** : diastolic blood pressure (Continuous)\n",
        "\n",
        "**BMI** : Body Mass Index (Continuous)\n",
        "\n",
        "**heartRate** : heart rate (Continuous - In medical research, variables such as heart rate though in fact discrete, yet are considered continuous because of large number of possible values.)\n",
        "\n",
        "**glucose** : glucose level (Continuous)\n",
        "\n",
        "\n",
        "#**Predict variable (desired target)**\n",
        "\n",
        "**TenYearCHD** : (binary: “1”, means “Yes”, “0” means “No”)"
      ],
      "metadata": {
        "id": "ugw3GWzVlcqQ"
      }
    },
    {
      "cell_type": "markdown",
      "source": [
        "### Check Unique Values for each variable."
      ],
      "metadata": {
        "id": "u3PMJOP6ngxN"
      }
    },
    {
      "cell_type": "code",
      "source": [
        "# Check Unique Values for each variable.\n",
        "unique_values = {}\n",
        "for column in data.columns:\n",
        "    unique_values[column] = data[column].unique()\n",
        "\n",
        "# Display the unique values for each variable\n",
        "for column, values in unique_values.items():\n",
        "    print(f\"Unique values for column '{column}':\")\n",
        "    print(values)\n",
        "    print()"
      ],
      "metadata": {
        "id": "zms12Yq5n-jE"
      },
      "execution_count": null,
      "outputs": []
    },
    {
      "cell_type": "markdown",
      "source": [
        "## 3. ***Data Wrangling***"
      ],
      "metadata": {
        "id": "dauF4eBmngu3"
      }
    },
    {
      "cell_type": "markdown",
      "source": [
        "### Data Wrangling Code"
      ],
      "metadata": {
        "id": "bKJF3rekwFvQ"
      }
    },
    {
      "cell_type": "code",
      "source": [
        "#dropping the id column\n",
        "data=data.drop(columns='id')"
      ],
      "metadata": {
        "id": "sTl3FGc7lpFK"
      },
      "execution_count": null,
      "outputs": []
    },
    {
      "cell_type": "code",
      "source": [
        "# Write your code to make your dataset analysis ready.\n",
        "\n",
        "#converting datatype\n",
        "data['glucose'] =data['glucose'].astype(float)"
      ],
      "metadata": {
        "id": "Udi-eC36asyI"
      },
      "execution_count": null,
      "outputs": []
    },
    {
      "cell_type": "code",
      "source": [
        "\n",
        "\n",
        "#Handling missing values\n",
        "miss_val[:7]\n"
      ],
      "metadata": {
        "id": "wk-9a2fpoLcV"
      },
      "execution_count": null,
      "outputs": []
    },
    {
      "cell_type": "code",
      "source": [
        "#checking missing value percentage of each variable\n",
        "miss_val[:7]/len(data)*100"
      ],
      "metadata": {
        "id": "RPOHtfLvTIEq"
      },
      "execution_count": null,
      "outputs": []
    },
    {
      "cell_type": "markdown",
      "source": [
        "As we can see that the percentage of missing/null values is not very high in any of the columns, so we can easily handle these missing values.\n",
        "\n",
        "so firstly ,lets visualise these columns so that we could take the appropriate decision."
      ],
      "metadata": {
        "id": "hpXfBhBLXm_3"
      }
    },
    {
      "cell_type": "code",
      "source": [
        "#visualising columns with missing values\n",
        "for i in ['glucose','education','BPMeds','totChol','cigsPerDay','BMI','heartRate']:\n",
        "  plt.figure(figsize=(6,4))\n",
        "  sns.distplot(data[i])"
      ],
      "metadata": {
        "id": "5Pt92BzpUiHJ"
      },
      "execution_count": null,
      "outputs": []
    },
    {
      "cell_type": "markdown",
      "source": [
        "Here we can see in the above plots that distribution of continuous columns like **glucose,totChol,BMI,heartRate,cigs_per_day** that have missing values is skewed. so in those columns we can fill the missing values with **median**."
      ],
      "metadata": {
        "id": "qg1IokqhWmnG"
      }
    },
    {
      "cell_type": "markdown",
      "source": [
        "And for categorical variables i.e. **education and BPMeds** , we can fill the missing values with **Mode**"
      ],
      "metadata": {
        "id": "R98vMECuW85x"
      }
    },
    {
      "cell_type": "code",
      "source": [
        "#imputing continuous missing values with median()\n",
        "data['glucose']=data['glucose'].fillna(data['glucose'].median())\n",
        "data['totChol']=data['totChol'].fillna(data['totChol'].median())\n",
        "data['BMI']=data['BMI'].fillna(data['BMI'].median())\n",
        "data['heartRate']=data['heartRate'].fillna(data['heartRate'].median())\n",
        "data['cigsPerDay']=data['cigsPerDay'].fillna(data['cigsPerDay'].median())"
      ],
      "metadata": {
        "id": "K-jkuOCsX9_F"
      },
      "execution_count": null,
      "outputs": []
    },
    {
      "cell_type": "code",
      "source": [
        "#imputing categorical missing data with mode\n",
        "data['education']=data['education'].fillna(data['education'].mode()[0])\n",
        "data['BPMeds']=data['BPMeds'].fillna(data['BPMeds'].mode()[0])"
      ],
      "metadata": {
        "id": "5WiFuD85ZPcL"
      },
      "execution_count": null,
      "outputs": []
    },
    {
      "cell_type": "code",
      "source": [
        "#checking for missing values again\n",
        "data.isnull().sum()"
      ],
      "metadata": {
        "id": "u0JUhqvoh1CE"
      },
      "execution_count": null,
      "outputs": []
    },
    {
      "cell_type": "markdown",
      "source": [
        "Now there are no null values in the data"
      ],
      "metadata": {
        "id": "vAqhz5ZXh-YH"
      }
    },
    {
      "cell_type": "code",
      "source": [
        "#segregating data into continuous and discrete variables\n",
        "\n",
        "#discrete variables\n",
        "discrete=[]\n",
        "\n",
        "for var in data.columns:\n",
        "  if var not in ['TenYearCHD']:\n",
        "    if len(data[var].unique())<10:\n",
        "      discrete.append(var)\n",
        "      print(var,'values:',data[var].unique())\n"
      ],
      "metadata": {
        "id": "5JfHb7dUj-Io"
      },
      "execution_count": null,
      "outputs": []
    },
    {
      "cell_type": "code",
      "source": [
        "#continuous variables\n",
        "continuous=[var for var in data.columns if var not in discrete and var not in ['TenYearCHD']]\n",
        "print(continuous)\n"
      ],
      "metadata": {
        "id": "WzzaDxGopMP1"
      },
      "execution_count": null,
      "outputs": []
    },
    {
      "cell_type": "markdown",
      "source": [
        "### What all manipulations have you done and insights you found?"
      ],
      "metadata": {
        "id": "MSa1f5Uengrz"
      }
    },
    {
      "cell_type": "markdown",
      "source": [
        " 1. Dropped 'id' column as we saw that index and id were same, so there was no point in keeping it.\n",
        "\n",
        " 2. converted \"glucose\" column data type from 'object' to 'float'.\n",
        "\n",
        " 3. we found that there are some variables in dataset with missing values, so I imputed them with median and mode accordingly.\n",
        "\n",
        " 4. segregated discrete and continuous variables for better understanding and analysis."
      ],
      "metadata": {
        "id": "LbyXE7I1olp8"
      }
    },
    {
      "cell_type": "markdown",
      "source": [
        "## ***4. Data Vizualization, Storytelling & Experimenting with charts : Understand the relationships between variables***"
      ],
      "metadata": {
        "id": "GF8Ens_Soomf"
      }
    },
    {
      "cell_type": "markdown",
      "source": [
        "#**UNIVARIATE ANALYSIS**"
      ],
      "metadata": {
        "id": "rcNiemfqnM7l"
      }
    },
    {
      "cell_type": "markdown",
      "source": [
        "## Visualising the Dependent(target) variable distribution"
      ],
      "metadata": {
        "id": "0wOQAZs5pc--"
      }
    },
    {
      "cell_type": "code",
      "source": [
        "#  visualization code\n",
        "data['TenYearCHD'].value_counts().plot.pie(autopct='%1.1f%%')\n",
        "plt.legend()\n",
        "plt.show()"
      ],
      "metadata": {
        "id": "7v_ESjsspbW7"
      },
      "execution_count": null,
      "outputs": []
    },
    {
      "cell_type": "markdown",
      "source": [
        "##### 1. Why did you pick the specific chart?"
      ],
      "metadata": {
        "id": "K5QZ13OEpz2H"
      }
    },
    {
      "cell_type": "markdown",
      "source": [
        "**To show the proportion of dependent variable**"
      ],
      "metadata": {
        "id": "XESiWehPqBRc"
      }
    },
    {
      "cell_type": "markdown",
      "source": [
        "##### 2. What is/are the insight(s) found from the chart?"
      ],
      "metadata": {
        "id": "lQ7QKXXCp7Bj"
      }
    },
    {
      "cell_type": "markdown",
      "source": [
        "**we can see that there is imbalanced distribution of data as 'TenYearCHD' has 85% of 0 and 15% 1 values.**"
      ],
      "metadata": {
        "id": "C_j1G7yiqdRP"
      }
    },
    {
      "cell_type": "markdown",
      "source": [
        "##### 3. Will the gained insights help creating a positive business impact?\n",
        "Are there any insights that lead to negative growth? Justify with specific reason."
      ],
      "metadata": {
        "id": "448CDAPjqfQr"
      }
    },
    {
      "cell_type": "markdown",
      "source": [
        "**The imbalance in the data can affect the model efficiency. so need to perform some sampling techniques to teat the imbalance.**"
      ],
      "metadata": {
        "id": "3cspy4FjqxJW"
      }
    },
    {
      "cell_type": "markdown",
      "source": [
        "#distribution of continuous variables"
      ],
      "metadata": {
        "id": "iBkqn-lOop4o"
      }
    },
    {
      "cell_type": "code",
      "source": [
        "#distribution of continuous variables\n",
        "for col in continuous:\n",
        "  plt.figure()\n",
        "  sns.distplot(data[col])"
      ],
      "metadata": {
        "id": "DOoiymnloeAM"
      },
      "execution_count": null,
      "outputs": []
    },
    {
      "cell_type": "markdown",
      "source": [
        "For numerical features, we can see that the majority of distributions are right-skewed. The distributions of totChol (total cholesterol) and BMI are roughly comparable. The distribution of glucose is highly skewed to the right. It demonstrates that glucose has many outliers."
      ],
      "metadata": {
        "id": "vlCBvlaposM7"
      }
    },
    {
      "cell_type": "markdown",
      "source": [
        "#Outlier Analysis of Numeric feature"
      ],
      "metadata": {
        "id": "sTKbNgARo431"
      }
    },
    {
      "cell_type": "code",
      "source": [
        "plt.figure(figsize=(15,5))\n",
        "plt.suptitle('Outlier Analysis of Numeric Features', fontsize=20, fontweight='bold', y=1.02)\n",
        "\n",
        "for i,col in enumerate(continuous):\n",
        "  plt.subplot(2, 4, i+1)                       # subplots 2 rows, 4 columns\n",
        "\n",
        "  # boxplots\n",
        "  sns.boxplot(data[col])\n",
        "  # x-axis label\n",
        "  plt.xlabel(col)\n",
        "  plt.tight_layout()"
      ],
      "metadata": {
        "id": "wA58Ak91o6in"
      },
      "execution_count": null,
      "outputs": []
    },
    {
      "cell_type": "markdown",
      "source": [
        "Outliers are visible in the 'cigsPerDay', 'totChol', 'sysBP', 'diaBP', 'BMI', 'heartRate', and 'glucose' columns."
      ],
      "metadata": {
        "id": "nk-CBAbEpMCX"
      }
    },
    {
      "cell_type": "markdown",
      "source": [
        "#**Bivariate and Multivariate Analysis**"
      ],
      "metadata": {
        "id": "6xaaZw6DqCnK"
      }
    },
    {
      "cell_type": "markdown",
      "source": [
        "## Education and risk of disease"
      ],
      "metadata": {
        "id": "KSlN3yHqYklG"
      }
    },
    {
      "cell_type": "code",
      "source": [
        "# visualization code\n",
        "freq=data.groupby('TenYearCHD')['education'].value_counts().unstack(0)\n",
        "(freq.divide(freq.sum(axis=1),axis=0)*100).plot(kind='bar')\n",
        "plt.ylim(0,100)\n",
        "plt.ylabel(\"percentage\")\n",
        "plt.xticks(rotation=0)\n",
        "plt.show()"
      ],
      "metadata": {
        "id": "R4YgtaqtYklH"
      },
      "execution_count": null,
      "outputs": []
    },
    {
      "cell_type": "markdown",
      "source": [
        "##### 1. Why did you pick the specific chart?"
      ],
      "metadata": {
        "id": "t6dVpIINYklI"
      }
    },
    {
      "cell_type": "markdown",
      "source": [
        "**To show the comparison between education level and risk of disease**"
      ],
      "metadata": {
        "id": "5aaW0BYyYklI"
      }
    },
    {
      "cell_type": "markdown",
      "source": [
        "##### 2. What is/are the insight(s) found from the chart?"
      ],
      "metadata": {
        "id": "ijmpgYnKYklI"
      }
    },
    {
      "cell_type": "markdown",
      "source": [
        "**People with education of 1 year has highest number of percentage who has risk of CHD. Others aren't much behind.**"
      ],
      "metadata": {
        "id": "PSx9atu2YklI"
      }
    },
    {
      "cell_type": "markdown",
      "source": [
        "##### 3. Will the gained insights help creating a positive business impact?\n",
        "Are there any insights that lead to negative growth? Justify with specific reason."
      ],
      "metadata": {
        "id": "-JiQyfWJYklI"
      }
    },
    {
      "cell_type": "markdown",
      "source": [
        "**People with 1 year of education tend to get CHD more often than others, Surprisingly, people with 4 years of education are on the second rank.**"
      ],
      "metadata": {
        "id": "BcBbebzrYklV"
      }
    },
    {
      "cell_type": "markdown",
      "source": [
        "## Gender and risk of disease"
      ],
      "metadata": {
        "id": "EM7whBJCYoAo"
      }
    },
    {
      "cell_type": "code",
      "source": [
        "# visualization code\n",
        "freq=data.groupby('TenYearCHD')['sex'].value_counts().unstack(0)\n",
        "(freq.divide(freq.sum(axis=1),axis=0)*100).plot(kind='bar')\n",
        "plt.ylim(0,100)\n",
        "plt.ylabel(\"percentage\")\n",
        "plt.xticks(rotation=0)\n",
        "plt.show()"
      ],
      "metadata": {
        "id": "t6GMdE67YoAp"
      },
      "execution_count": null,
      "outputs": []
    },
    {
      "cell_type": "markdown",
      "source": [
        "##### 1. Why did you pick the specific chart?"
      ],
      "metadata": {
        "id": "fge-S5ZAYoAp"
      }
    },
    {
      "cell_type": "markdown",
      "source": [
        "**To show the comparison between the risk of CHD with respect to 'sex'.**"
      ],
      "metadata": {
        "id": "5dBItgRVYoAp"
      }
    },
    {
      "cell_type": "markdown",
      "source": [
        "##### 2. What is/are the insight(s) found from the chart?"
      ],
      "metadata": {
        "id": "85gYPyotYoAp"
      }
    },
    {
      "cell_type": "markdown",
      "source": [
        "**We can clearly see that males have higher percentage of CHD risk as compared to females.**"
      ],
      "metadata": {
        "id": "4jstXR6OYoAp"
      }
    },
    {
      "cell_type": "markdown",
      "source": [
        "##### 3. Will the gained insights help creating a positive business impact?\n",
        "Are there any insights that lead to negative growth? Justify with specific reason."
      ],
      "metadata": {
        "id": "RoGjAbkUYoAp"
      }
    },
    {
      "cell_type": "markdown",
      "source": [
        "**If the insight reveals that males are more prone to CHD, it can lead to positive business opportunities in the healthcare industry.**"
      ],
      "metadata": {
        "id": "zfJ8IqMcYoAp"
      }
    },
    {
      "cell_type": "markdown",
      "source": [
        "## Smoking and risk of disease"
      ],
      "metadata": {
        "id": "4Of9eVA-YrdM"
      }
    },
    {
      "cell_type": "code",
      "source": [
        "# visualization code\n",
        "freq=data.groupby('TenYearCHD')['is_smoking'].value_counts().unstack(0)\n",
        "(freq.divide(freq.sum(axis=1),axis=0)*100).plot(kind='bar')\n",
        "plt.ylim(0,100)\n",
        "plt.ylabel(\"percentage\")\n",
        "plt.xticks(rotation=0)\n",
        "plt.show()"
      ],
      "metadata": {
        "id": "irlUoxc8YrdO"
      },
      "execution_count": null,
      "outputs": []
    },
    {
      "cell_type": "markdown",
      "source": [
        "##### 1. Why did you pick the specific chart?"
      ],
      "metadata": {
        "id": "iky9q4vBYrdO"
      }
    },
    {
      "cell_type": "markdown",
      "source": [
        "**To compare the risk of CHD with respect to smoking,i.e, whether a person smokes or not.**"
      ],
      "metadata": {
        "id": "aJRCwT6DYrdO"
      }
    },
    {
      "cell_type": "markdown",
      "source": [
        "##### 2. What is/are the insight(s) found from the chart?"
      ],
      "metadata": {
        "id": "F6T5p64dYrdO"
      }
    },
    {
      "cell_type": "markdown",
      "source": [
        "**we found that people who smoke has higher percentage of risk of CHD as compared to people who do not smoke.**"
      ],
      "metadata": {
        "id": "Xx8WAJvtYrdO"
      }
    },
    {
      "cell_type": "markdown",
      "source": [
        "##### 3. Will the gained insights help creating a positive business impact?\n",
        "Are there any insights that lead to negative growth? Justify with specific reason."
      ],
      "metadata": {
        "id": "y-Ehk30pYrdP"
      }
    },
    {
      "cell_type": "markdown",
      "source": [
        "**If the insight highlights the increased risk of CHD in smokers, then the potential impacts could be increased demand for smoking cessation programmes , products and services aimed at helping people quit smoking and reduce the risk of CHD.**"
      ],
      "metadata": {
        "id": "jLNxxz7MYrdP"
      }
    },
    {
      "cell_type": "markdown",
      "source": [
        "##Blood pressure medicines (BPMeds) and risk of CHD"
      ],
      "metadata": {
        "id": "bamQiAODYuh1"
      }
    },
    {
      "cell_type": "code",
      "source": [
        "#  visualization code\n",
        "freq=data.groupby('TenYearCHD')['BPMeds'].value_counts().unstack(0)\n",
        "(freq.divide(freq.sum(axis=1),axis=0)*100).plot(kind='bar')\n",
        "plt.ylim(0,100)\n",
        "plt.ylabel(\"percentage\")\n",
        "plt.xticks(rotation=0)\n",
        "plt.show()"
      ],
      "metadata": {
        "id": "TIJwrbroYuh3"
      },
      "execution_count": null,
      "outputs": []
    },
    {
      "cell_type": "markdown",
      "source": [
        "##### 1. Why did you pick the specific chart?"
      ],
      "metadata": {
        "id": "QHF8YVU7Yuh3"
      }
    },
    {
      "cell_type": "markdown",
      "source": [
        "**To show the comparison of percentage of risk of CHD with respect to BP medications**\n",
        "\n"
      ],
      "metadata": {
        "id": "dcxuIMRPYuh3"
      }
    },
    {
      "cell_type": "markdown",
      "source": [
        "##### 2. What is/are the insight(s) found from the chart?"
      ],
      "metadata": {
        "id": "GwzvFGzlYuh3"
      }
    },
    {
      "cell_type": "markdown",
      "source": [
        "**Here we can see that people with Blood pressure problem who are already on BP medications are prone to CHD.**"
      ],
      "metadata": {
        "id": "uyqkiB8YYuh3"
      }
    },
    {
      "cell_type": "markdown",
      "source": [
        "## Prevalent stroke and risk of CHD"
      ],
      "metadata": {
        "id": "OH-pJp9IphqM"
      }
    },
    {
      "cell_type": "code",
      "source": [
        "#  visualization code\n",
        "freq=data.groupby('TenYearCHD')['prevalentStroke'].value_counts().unstack(0)\n",
        "(freq.divide(freq.sum(axis=1),axis=0)*100).plot(kind='bar')\n",
        "plt.ylim(0,100)\n",
        "plt.ylabel(\"percentage\")\n",
        "plt.xticks(rotation=0)\n",
        "plt.show()"
      ],
      "metadata": {
        "id": "kuRf4wtuphqN"
      },
      "execution_count": null,
      "outputs": []
    },
    {
      "cell_type": "markdown",
      "source": [
        "##### 1. Why did you pick the specific chart?"
      ],
      "metadata": {
        "id": "bbFf2-_FphqN"
      }
    },
    {
      "cell_type": "markdown",
      "source": [
        "**Used bar chart to show the comparison of percentage of CHD risk with respect to 'prevalent stroke'.**"
      ],
      "metadata": {
        "id": "loh7H2nzphqN"
      }
    },
    {
      "cell_type": "markdown",
      "source": [
        "##### 2. What is/are the insight(s) found from the chart?"
      ],
      "metadata": {
        "id": "_ouA3fa0phqN"
      }
    },
    {
      "cell_type": "markdown",
      "source": [
        "**Patients with prevalent stroke symptoms have higher percentage of CHD risk**"
      ],
      "metadata": {
        "id": "VECbqPI7phqN"
      }
    },
    {
      "cell_type": "markdown",
      "source": [
        "##### 3. Will the gained insights help creating a positive business impact?\n",
        "Are there any insights that lead to negative growth? Justify with specific reason."
      ],
      "metadata": {
        "id": "Seke61FWphqN"
      }
    },
    {
      "cell_type": "markdown",
      "source": [
        "**We can use this information to create awareness among people so that they could take precautionary measures.**"
      ],
      "metadata": {
        "id": "DW4_bGpfphqN"
      }
    },
    {
      "cell_type": "markdown",
      "source": [
        "## Diabetes and risk of CHD"
      ],
      "metadata": {
        "id": "PIIx-8_IphqN"
      }
    },
    {
      "cell_type": "code",
      "source": [
        "# visualization code\n",
        "freq=data.groupby('TenYearCHD')['diabetes'].value_counts().unstack(0)\n",
        "(freq.divide(freq.sum(axis=1),axis=0)*100).plot(kind='bar')\n",
        "plt.ylim(0,100)\n",
        "plt.ylabel(\"percentage\")\n",
        "plt.xticks(rotation=0)\n",
        "plt.show()"
      ],
      "metadata": {
        "id": "lqAIGUfyphqO"
      },
      "execution_count": null,
      "outputs": []
    },
    {
      "cell_type": "markdown",
      "source": [
        "##### 1. Why did you pick the specific chart?"
      ],
      "metadata": {
        "id": "t27r6nlMphqO"
      }
    },
    {
      "cell_type": "markdown",
      "source": [
        "**Used bar chart to show the comparison of percentage of CHD risk with respect to 'diabetes'.**"
      ],
      "metadata": {
        "id": "iv6ro40sphqO"
      }
    },
    {
      "cell_type": "markdown",
      "source": [
        "##### 2. What is/are the insight(s) found from the chart?"
      ],
      "metadata": {
        "id": "r2jJGEOYphqO"
      }
    },
    {
      "cell_type": "markdown",
      "source": [
        "**Diabetic patients tend to have higher risk of CHD.**"
      ],
      "metadata": {
        "id": "Po6ZPi4hphqO"
      }
    },
    {
      "cell_type": "markdown",
      "source": [
        "##### 3. Will the gained insights help creating a positive business impact?\n",
        "Are there any insights that lead to negative growth? Justify with specific reason."
      ],
      "metadata": {
        "id": "b0JNsNcRphqO"
      }
    },
    {
      "cell_type": "markdown",
      "source": [
        "**We can use this insight to create awareness among the people so that people who are already diabetic can be more careful and accordingly take precautionary measures to avoid CHD.**"
      ],
      "metadata": {
        "id": "xvSq8iUTphqO"
      }
    },
    {
      "cell_type": "markdown",
      "source": [
        "## Prevalent Hypertension and risk of CHD"
      ],
      "metadata": {
        "id": "BZR9WyysphqO"
      }
    },
    {
      "cell_type": "code",
      "source": [
        "#  visualization code\n",
        "freq=data.groupby('TenYearCHD')['prevalentHyp'].value_counts().unstack(0)\n",
        "(freq.divide(freq.sum(axis=1),axis=0)*100).plot(kind='bar')\n",
        "plt.ylim(0,100)\n",
        "plt.ylabel(\"percentage\")\n",
        "plt.xticks(rotation=0)\n",
        "plt.show()"
      ],
      "metadata": {
        "id": "TdPTWpAVphqO"
      },
      "execution_count": null,
      "outputs": []
    },
    {
      "cell_type": "markdown",
      "source": [
        "##### 1. Why did you pick the specific chart?"
      ],
      "metadata": {
        "id": "jj7wYXLtphqO"
      }
    },
    {
      "cell_type": "markdown",
      "source": [
        "**Used bar chart to show the comparison of percentage of CHD risk with respect to 'prevalent hypertension'.**"
      ],
      "metadata": {
        "id": "Ob8u6rCTphqO"
      }
    },
    {
      "cell_type": "markdown",
      "source": [
        "##### 2. What is/are the insight(s) found from the chart?"
      ],
      "metadata": {
        "id": "eZrbJ2SmphqO"
      }
    },
    {
      "cell_type": "markdown",
      "source": [
        "**Patients who have history of hypertension are at higher risk of CHD.**"
      ],
      "metadata": {
        "id": "mZtgC_hjphqO"
      }
    },
    {
      "cell_type": "markdown",
      "source": [
        "##### 3. Will the gained insights help creating a positive business impact?\n",
        "Are there any insights that lead to negative growth? Justify with specific reason."
      ],
      "metadata": {
        "id": "rFu4xreNphqO"
      }
    },
    {
      "cell_type": "markdown",
      "source": [
        "**We can use this information to create awareness among people so that they could be more cautious and make necessay changes in their lifstyle.\n",
        "for example- A person with hypertension can prevent CHD by consuming less sodium, quit smoking, losing weight.etc**"
      ],
      "metadata": {
        "id": "ey_0qi68phqO"
      }
    },
    {
      "cell_type": "markdown",
      "source": [
        "## smoking frequency among male and female"
      ],
      "metadata": {
        "id": "U2RJ9gkRphqQ"
      }
    },
    {
      "cell_type": "code",
      "source": [
        "#  visualization code\n",
        "smoke_freq=data.groupby('sex')['cigsPerDay'].value_counts().unstack(0).plot.bar(figsize=(12,8))\n",
        "plt.show()\n"
      ],
      "metadata": {
        "id": "GM7a4YP4phqQ"
      },
      "execution_count": null,
      "outputs": []
    },
    {
      "cell_type": "markdown",
      "source": [
        "##### 1. Why did you pick the specific chart?"
      ],
      "metadata": {
        "id": "1M8mcRywphqQ"
      }
    },
    {
      "cell_type": "markdown",
      "source": [
        "**Used bar chart in order to show the comparison between male and female with respect to number of cigarettes they smoke per day.**"
      ],
      "metadata": {
        "id": "8agQvks0phqQ"
      }
    },
    {
      "cell_type": "markdown",
      "source": [
        "##### 2. What is/are the insight(s) found from the chart?"
      ],
      "metadata": {
        "id": "tgIPom80phqQ"
      }
    },
    {
      "cell_type": "markdown",
      "source": [
        "**Majority of non smokers are females but in some cases like 1,3,5,9,10 and 15 cigarettes per day, females are in lead.**"
      ],
      "metadata": {
        "id": "Qp13pnNzphqQ"
      }
    },
    {
      "cell_type": "markdown",
      "source": [
        "## Systolic and Diastolic Blood Pressure and Gender"
      ],
      "metadata": {
        "id": "x-EpHcCOp1ci"
      }
    },
    {
      "cell_type": "code",
      "source": [
        "# visualization code\n",
        "\n",
        "#systolic BP\n",
        "plt.figure(figsize=(10,6))\n",
        "sns.violinplot(x='sex',y='sysBP',data=data)\n",
        "plt.show()\n",
        "\n"
      ],
      "metadata": {
        "id": "mAQTIvtqp1cj"
      },
      "execution_count": null,
      "outputs": []
    },
    {
      "cell_type": "code",
      "source": [
        "#Diastolic BP\n",
        "plt.figure(figsize=(10,6))\n",
        "sns.violinplot(x='sex',y='diaBP',data=data)\n",
        "plt.show"
      ],
      "metadata": {
        "id": "BgHpImb9gqTp"
      },
      "execution_count": null,
      "outputs": []
    },
    {
      "cell_type": "markdown",
      "source": [
        "##### 1. Why did you pick the specific chart?"
      ],
      "metadata": {
        "id": "X_VqEhTip1ck"
      }
    },
    {
      "cell_type": "markdown",
      "source": [
        "**Violin plot shows the spread and density of data distribution.It provides information about median, quartiles and outliers.The width of the plot at different points shows density of data at those values.**"
      ],
      "metadata": {
        "id": "-vsMzt_np1ck"
      }
    },
    {
      "cell_type": "markdown",
      "source": [
        "##### 2. What is/are the insight(s) found from the chart?"
      ],
      "metadata": {
        "id": "8zGJKyg5p1ck"
      }
    },
    {
      "cell_type": "markdown",
      "source": [
        "**Females experience high BP in certain instances than males.**"
      ],
      "metadata": {
        "id": "ZYdMsrqVp1ck"
      }
    },
    {
      "cell_type": "markdown",
      "source": [
        "##  Regression plot between target variable and numerical features"
      ],
      "metadata": {
        "id": "Ag9LCva-p1cl"
      }
    },
    {
      "cell_type": "code",
      "source": [
        "\n",
        "# Checking Linearity of all numerical features with our target variable\n",
        "\n",
        "# figsize\n",
        "plt.figure(figsize=(15,5))\n",
        "# title\n",
        "plt.suptitle('Bivariate Analysis of Numerical features', fontsize=20, fontweight='bold', y=1.02)\n",
        "\n",
        "for i,col in enumerate(continuous):\n",
        "  plt.subplot(2, 4, i+1)                     # subplots of 2 rows and 4 columns\n",
        "\n",
        "  # regression plots\n",
        "  sns.regplot(x=data[col], y='TenYearCHD', data=data)\n",
        "  # x-axis lable\n",
        "  plt.xlabel(col)\n",
        "  plt.tight_layout()"
      ],
      "metadata": {
        "id": "EUfxeq9-p1cl"
      },
      "execution_count": null,
      "outputs": []
    },
    {
      "cell_type": "markdown",
      "source": [
        "Numerous Independent numerical variables are linked to our Target variable and have a positive relationship with our target variable."
      ],
      "metadata": {
        "id": "zRHzZmErtzQm"
      }
    },
    {
      "cell_type": "markdown",
      "source": [
        "## **Correlation Heatmap**"
      ],
      "metadata": {
        "id": "NC_X3p0fY2L0"
      }
    },
    {
      "cell_type": "code",
      "source": [
        "# Correlation Heatmap visualization code\n",
        "plt.figure(figsize=(15,5))\n",
        "sns.heatmap(data.corr(), annot=True)"
      ],
      "metadata": {
        "id": "xyC9zolEZNRQ"
      },
      "execution_count": null,
      "outputs": []
    },
    {
      "cell_type": "markdown",
      "source": [
        "The correlation coefficient is a numerical measure of the strength and direction of a linear relationship between two variables. In other words, it measures the extent to which changes in one variable are associated with changes in the other variable. The correlation coefficient ranges from -1 to 1, with -1 indicating a perfect negative correlation, 1 indicating a perfect positive correlation, and 0 indicating no correlation.\n",
        "\n",
        "The correlation coefficient is an important tool in data analysis and machine learning, as it can help to identify relationships between variables and can be used in feature selection techniques to remove highly correlated features, which can reduce overfitting and improve the performance of the model."
      ],
      "metadata": {
        "id": "YRrSCzxJwwQd"
      }
    },
    {
      "cell_type": "markdown",
      "source": [
        "## ***5. Hypothesis Testing***"
      ],
      "metadata": {
        "id": "g-ATYxFrGrvw"
      }
    },
    {
      "cell_type": "markdown",
      "source": [
        "### Hypothetical Statement - 1"
      ],
      "metadata": {
        "id": "8yEUt7NnHlrM"
      }
    },
    {
      "cell_type": "markdown",
      "source": [
        "#### 1. State Your research hypothesis as a null hypothesis and alternate hypothesis."
      ],
      "metadata": {
        "id": "tEA2Xm5dHt1r"
      }
    },
    {
      "cell_type": "markdown",
      "source": [
        "**Null hypothesis-**There is no relationship between 'is_smoking' and 'TenYearCHD'\n",
        "\n",
        "**Alternate hypothesis-**There is  relationship between 'is_smoking' and 'TenYearCHD'\n"
      ],
      "metadata": {
        "id": "HI9ZP0laH0D-"
      }
    },
    {
      "cell_type": "markdown",
      "source": [
        "#### 2. Perform an appropriate statistical test."
      ],
      "metadata": {
        "id": "I79__PHVH19G"
      }
    },
    {
      "cell_type": "code",
      "source": [
        "# Perform Statistical Test to obtain P-Value\n",
        "import statsmodels.api as sm\n",
        "\n",
        "#defining null and alternate hypothesis\n",
        "null=\"there is no relationship between is_smoking and TenYearCHD\"\n",
        "alt=\"there is relationship between is_smoking and TenYearCHD\"\n",
        "\n",
        "#performing linear regression\n",
        "x=sm.add_constant(data['is_smoking'].apply(lambda x: 1 if x=='YES' else 0))\n",
        "y=data['TenYearCHD']\n",
        "model=sm.OLS(y,x).fit()\n",
        "\n",
        "print(model.summary())\n",
        "\n",
        "#extracting p-value\n",
        "p_val=model.pvalues[1]\n",
        "print(\"P-value\",p_val)\n"
      ],
      "metadata": {
        "id": "oZrfquKtyian"
      },
      "execution_count": null,
      "outputs": []
    },
    {
      "cell_type": "markdown",
      "source": [
        "##### Which statistical test have you done to obtain P-Value?"
      ],
      "metadata": {
        "id": "Ou-I18pAyIpj"
      }
    },
    {
      "cell_type": "markdown",
      "source": [
        "**I have used OLS (ordinary least square) function from statsmodels package**\n",
        "\n",
        "**In this case , we have p-values as 0.0468 whic is less than the significance level of 0.05, so we can reject the null hypothesis. Therefore, based on the given data we have enough evidence to support the alternate hypothesis that \"There is relation between is_smoking and TenYearCHD\"**"
      ],
      "metadata": {
        "id": "s2U0kk00ygSB"
      }
    },
    {
      "cell_type": "markdown",
      "source": [
        "### Hypothetical Statement - 2"
      ],
      "metadata": {
        "id": "4_0_7-oCpUZd"
      }
    },
    {
      "cell_type": "markdown",
      "source": [
        "#### 1. State Your research hypothesis as a null hypothesis and alternate hypothesis."
      ],
      "metadata": {
        "id": "hwyV_J3ipUZe"
      }
    },
    {
      "cell_type": "markdown",
      "source": [
        "**Null hypothesis-**There is no relation between 'diabetes' and 'TenYearCHD'\n",
        "\n",
        "**Alternate hypothesis-**There is relation between 'diabetes' and 'TenYearCHD'"
      ],
      "metadata": {
        "id": "FnpLGJ-4pUZe"
      }
    },
    {
      "cell_type": "markdown",
      "source": [
        "#### 2. Perform an appropriate statistical test."
      ],
      "metadata": {
        "id": "3yB-zSqbpUZe"
      }
    },
    {
      "cell_type": "code",
      "source": [
        "# Perform Statistical Test to obtain P-Value\n",
        "#defining null and alternate hypothesis\n",
        "null=\"there is no relationship between diabetes and TenYearCHD\"\n",
        "alt=\"there is relationship between diabetes and TenYearCHD\"\n",
        "\n",
        "#performing linear regression\n",
        "x=sm.add_constant(data['diabetes'])\n",
        "y=data['TenYearCHD']\n",
        "model=sm.OLS(y,x).fit()\n",
        "\n",
        "print(model.summary())\n",
        "\n",
        "#extracting p-value\n",
        "p_val=model.pvalues[1].round(5)\n",
        "print(\"P-value\",p_val)"
      ],
      "metadata": {
        "id": "sWxdNTXNpUZe"
      },
      "execution_count": null,
      "outputs": []
    },
    {
      "cell_type": "markdown",
      "source": [
        "##### Which statistical test have you done to obtain P-Value?"
      ],
      "metadata": {
        "id": "dEUvejAfpUZe"
      }
    },
    {
      "cell_type": "markdown",
      "source": [
        "**I have used OLS (ordinary least square) function from statsmodels package.**\n",
        "\n",
        "**In this case , we have p-values as 0.0 whic is less than the significance level of 0.05, so we can reject the null hypothesis. Therefore, based on the given data we have enough evidence to support the alternate hypothesis that \"There is relation between diabetes and TenYearCHD\"**"
      ],
      "metadata": {
        "id": "oLDrPz7HpUZf"
      }
    },
    {
      "cell_type": "markdown",
      "source": [
        "## ***6. Feature Engineering & Data Pre-processing***"
      ],
      "metadata": {
        "id": "yLjJCtPM0KBk"
      }
    },
    {
      "cell_type": "markdown",
      "source": [
        "Feature engineering is the process of creating new features from existing ones to improve the performance of a machine learning model. This involves transforming raw data into a more useful and informative form, by either creating new features from the existing data, or selecting only the most relevant features from the raw data.\n",
        "\n",
        "The goal of feature engineering is to extract relevant information from the raw data and represent it in a way that can be easily understood by the machine learning model. The success of a machine learning model depends heavily on the quality of the features used as inputs, so feature engineering plays an important role in model performance."
      ],
      "metadata": {
        "id": "af-YAC6zHKZk"
      }
    },
    {
      "cell_type": "markdown",
      "source": [
        "### 1. Handling Missing Values"
      ],
      "metadata": {
        "id": "xiyOF9F70UgQ"
      }
    },
    {
      "cell_type": "code",
      "source": [
        "# Handling Missing Values & Missing Value Imputation\n",
        "\n",
        "# NOTE-missing values has already been imputed"
      ],
      "metadata": {
        "id": "iRsAHk1K0fpS"
      },
      "execution_count": null,
      "outputs": []
    },
    {
      "cell_type": "markdown",
      "source": [
        "### 2. Handling Outliers"
      ],
      "metadata": {
        "id": "id1riN9m0vUs"
      }
    },
    {
      "cell_type": "code",
      "source": [
        "# Handling Outliers & Outlier treatments\n",
        "\n",
        "# figsize\n",
        "plt.figure(figsize=(15,5))\n",
        "# boxplot of numerical features\n",
        "sns.boxplot(data=data[continuous])\n",
        "plt.show()"
      ],
      "metadata": {
        "id": "M6w2CzZf04JK"
      },
      "execution_count": null,
      "outputs": []
    },
    {
      "cell_type": "code",
      "source": [
        "# we are going to replace the datapoints with upper and lower bound of all the outliers\n",
        "\n",
        "def clip_outliers(data):\n",
        "    for col in data[continuous]:\n",
        "        # using IQR method to define range of upper and lower limit.\n",
        "        q1 = data[col].quantile(0.25)\n",
        "        q3 = data[col].quantile(0.75)\n",
        "        iqr = q3 - q1\n",
        "        lower_bound = q1 - 1.5 * iqr\n",
        "        upper_bound = q3 + 1.5 * iqr\n",
        "\n",
        "        # replacing the outliers with upper and lower bound\n",
        "        data[col] = data[col].clip(lower_bound, upper_bound)\n",
        "    return data"
      ],
      "metadata": {
        "id": "s6VsVW8vtTxu"
      },
      "execution_count": null,
      "outputs": []
    },
    {
      "cell_type": "code",
      "source": [
        "# using the function to treat outliers\n",
        "data = clip_outliers(data)"
      ],
      "metadata": {
        "id": "UwlZxCg9t9sm"
      },
      "execution_count": null,
      "outputs": []
    },
    {
      "cell_type": "code",
      "source": [
        "# checking the boxplot after outlier treatment\n",
        "\n",
        "# figsize\n",
        "plt.figure(figsize=(15,5))\n",
        "# boxplot of numerical features\n",
        "sns.boxplot(data=data[continuous])\n",
        "plt.show()"
      ],
      "metadata": {
        "id": "zVSOlFSsuFI4"
      },
      "execution_count": null,
      "outputs": []
    },
    {
      "cell_type": "markdown",
      "source": [
        "##### What all outlier treatment techniques have you used and why did you use those techniques?"
      ],
      "metadata": {
        "id": "578E2V7j08f6"
      }
    },
    {
      "cell_type": "markdown",
      "source": [
        "Since we have limited datapoint hence we are not simply removing the outlier instead of that we are using the clipping method.\n",
        "\n",
        "**Clipping Method:** In this method, we set a cap on our outliers data, which means that if a value is higher than or lower than a certain threshold, all values will be considered outliers. This method replaces values that fall outside of a specified range with either the minimum or maximum value within that range."
      ],
      "metadata": {
        "id": "22zWRlCWtLem"
      }
    },
    {
      "cell_type": "code",
      "source": [
        "# checking for distribution after treating outliers.\n",
        "for col in continuous:\n",
        "  fig, ax =plt.subplots(1,2, figsize=(10,3))\n",
        "  sns.distplot(data[col], ax=ax[0]).set(title=\"Distribution\")\n",
        "  sns.boxplot(data[col], ax=ax[1]).set(title=\"Outlier\")\n",
        "  plt.suptitle(f'{col.title()}',weight='bold')\n",
        "  plt.tight_layout()"
      ],
      "metadata": {
        "id": "5skrYyDIucTu"
      },
      "execution_count": null,
      "outputs": []
    },
    {
      "cell_type": "markdown",
      "source": [
        "**We can also observe some shifts in the distribution of the data after treating outliers. Some of the data were skewed before handling outliers, but after doing so, the features almost follow the normal distribution. Therefore, we are not utilizing the numerical feature transformation technique.**"
      ],
      "metadata": {
        "id": "lDLMf15Duxdk"
      }
    },
    {
      "cell_type": "markdown",
      "source": [
        "### 3. Categorical Encoding"
      ],
      "metadata": {
        "id": "89xtkJwZ18nB"
      }
    },
    {
      "cell_type": "markdown",
      "source": [
        "**Except for the 'sex' and 'is_smoking' columns, almost all of the categories in the dataset are already represented numerically (ordinal). Therefore, we are encoding these two columns**"
      ],
      "metadata": {
        "id": "FnwUfSAPDtgq"
      }
    },
    {
      "cell_type": "code",
      "source": [
        "# Encode your categorical columns\n",
        "data['sex'] = data['sex'].map({'M':1, 'F':0})\n",
        "data['is_smoking'] =data['is_smoking'].map({'YES':1, 'NO':0})"
      ],
      "metadata": {
        "id": "21JmIYMG2hEo"
      },
      "execution_count": null,
      "outputs": []
    },
    {
      "cell_type": "markdown",
      "source": [
        "### 4. Feature Manipulation & Selection"
      ],
      "metadata": {
        "id": "-oLEiFgy-5Pf"
      }
    },
    {
      "cell_type": "markdown",
      "source": [
        "#### 1. Feature Manipulation"
      ],
      "metadata": {
        "id": "C74aWNz2AliB"
      }
    },
    {
      "cell_type": "markdown",
      "source": [
        "**The readings of blood pressure are shown in two numbers.**\n",
        "\n",
        "*The highest number in your systolic blood pressure reading.\n",
        "\n",
        "*The lowest number on your diastolic blood pressure readings.\n",
        "\n",
        "Pulse Pressure is the difference of the top number (systolic) and the bottom number (diastolic). For instance, a pulse pressure of 40 is considered to be healthy if the resting blood pressure is 120/80 millimeters of mercury (mm Hg). A pulse pressure greater than 40 mm Hg is typically considered unhealthy.\n",
        "\n",
        "The risk of a heart event, such as a heart attack or stroke, can be predicted by measuring pulse pressure. High pulse pressure, especially in older people, is considered a risk factor for cardiovascular disease."
      ],
      "metadata": {
        "id": "uHnPX76OHcLw"
      }
    },
    {
      "cell_type": "code",
      "source": [
        "# adding new column PulsePressure\n",
        "data['pulse_pressure'] = data['sysBP'] - data['diaBP']\n",
        "\n",
        "# dropping the sysBP and diaBP columns\n",
        "data.drop(columns=['sysBP', 'diaBP'], inplace=True)"
      ],
      "metadata": {
        "id": "h1qC4yhBApWC"
      },
      "execution_count": null,
      "outputs": []
    },
    {
      "cell_type": "markdown",
      "source": [
        "#### 2. Feature Selection"
      ],
      "metadata": {
        "id": "2DejudWSA-a0"
      }
    },
    {
      "cell_type": "code",
      "source": [
        "plt.figure(figsize=(15,5))\n",
        "sns.heatmap(data.corr(), annot=True)"
      ],
      "metadata": {
        "id": "30cIb_b0JKje"
      },
      "execution_count": null,
      "outputs": []
    },
    {
      "cell_type": "markdown",
      "source": [
        "If a person smokes (is_smoking=='yes'), but the number of cigarettes smoked per day is 0, or cigsPerDay is 0. Then it may develop into a conflicting case, we must treat those records."
      ],
      "metadata": {
        "id": "jUorXKGZJ1rs"
      }
    },
    {
      "cell_type": "code",
      "source": [
        "# checking data, weather the provide information is correct or not\n",
        "data[(data.is_smoking == 'YES') & (data.cigsPerDay == 0)]"
      ],
      "metadata": {
        "id": "I1NS4nSeJ51x"
      },
      "execution_count": null,
      "outputs": []
    },
    {
      "cell_type": "markdown",
      "source": [
        "since the is_smoking and cigsPerDay columns do not contain any conflict cases. It is sufficient to provide information regarding is_smoking in the cigsPerDay column."
      ],
      "metadata": {
        "id": "5ahANwtBKLPV"
      }
    },
    {
      "cell_type": "code",
      "source": [
        "# droping is_smoking column due to multi-collinearity\n",
        "\n",
        "data.drop('is_smoking', axis=1, inplace=True)"
      ],
      "metadata": {
        "id": "KEfdFVuUKNxm"
      },
      "execution_count": null,
      "outputs": []
    },
    {
      "cell_type": "markdown",
      "source": [
        "#Chi-square test"
      ],
      "metadata": {
        "id": "O5od9kx0KyUo"
      }
    },
    {
      "cell_type": "markdown",
      "source": [
        "In feature selection, the chi-square test can be used to determine if a variable is related to target variable. If the p-value of the test is low, it indicates that there is a significant relationship between the two variables, and the variable can be selected as an important feature for the model"
      ],
      "metadata": {
        "id": "0VNsdw17K2pV"
      }
    },
    {
      "cell_type": "code",
      "source": [
        "X = data.drop('TenYearCHD', axis=1)\n",
        "y= data['TenYearCHD']"
      ],
      "metadata": {
        "id": "F4KrcZw7LmM6"
      },
      "execution_count": null,
      "outputs": []
    },
    {
      "cell_type": "code",
      "source": [
        "# importing libarary\n",
        "from sklearn.feature_selection import SelectKBest\n",
        "from sklearn.feature_selection import chi2\n",
        "\n",
        "# model fitting\n",
        "ordered_rank_features = SelectKBest(score_func=chi2, k='all')\n",
        "model = ordered_rank_features.fit(X,y)\n",
        "\n",
        "# ranking feature based on importance\n",
        "feature_imp = pd.Series(model.scores_,index=X.columns)\n",
        "feature_imp.sort_values(ascending=False)"
      ],
      "metadata": {
        "id": "LXhqQQKBLYVH"
      },
      "execution_count": null,
      "outputs": []
    },
    {
      "cell_type": "markdown",
      "source": [
        "#Extra Trees Classifier"
      ],
      "metadata": {
        "id": "OYOr2lmVMFZr"
      }
    },
    {
      "cell_type": "markdown",
      "source": [
        "Extra_Tree_Classifier is a tree-based strategy that naturally ranks according to how well they decrease the Gini impurity (the purity of the node) across all trees. Notes with the least amount of impurity are found at the ends of trees, while nodes at the beginning of trees have the greatest decrease in impurity. As a result, we can select a subset of the most important features by pruning trees below a particular node."
      ],
      "metadata": {
        "id": "p0KQoGV8MJLb"
      }
    },
    {
      "cell_type": "code",
      "source": [
        "# importing libarary\n",
        "from sklearn.ensemble import ExtraTreesClassifier\n",
        "\n",
        "# model fitting\n",
        "model = ExtraTreesClassifier()\n",
        "model.fit(X,y)\n",
        "\n",
        "# ranking feature based on importance\n",
        "ranked_features = pd.Series(model.feature_importances_,index=X.columns)\n",
        "print(ranked_features.sort_values(ascending=False))"
      ],
      "metadata": {
        "id": "dbK3w7BqMKq3"
      },
      "execution_count": null,
      "outputs": []
    },
    {
      "cell_type": "markdown",
      "source": [
        "##Feature importance"
      ],
      "metadata": {
        "id": "WcEiJMsjMXZE"
      }
    },
    {
      "cell_type": "code",
      "source": [
        "# plotting graph ---> Feature Importance\n",
        "fig, axs = plt.subplots(1,2, figsize=(15,4))\n",
        "\n",
        "ranked_features.sort_values(ascending=False).plot(kind='barh', title='ExtraTreesClassifier', ax=axs[0])\n",
        "feature_imp.sort_values(ascending=False).plot(kind='barh', title='Chi Square test', ax=axs[1])\n",
        "\n",
        "\n",
        "plt.suptitle('Feature Importance', fontsize=20, fontweight='bold', y=1.1)\n",
        "plt.tight_layout()"
      ],
      "metadata": {
        "id": "JI27IdhjMZ6B"
      },
      "execution_count": null,
      "outputs": []
    },
    {
      "cell_type": "markdown",
      "source": [
        "From these graphs, we can say that the two most important features are **'age'** and **'pulse_pressure'** to predict the target variable\n",
        "\n",
        "As we discussed earlier, in the healthcare industry, every piece of data is crucial for analyzing or forecasting the target variable. The entries in this dataset are person-specific, the values vary between individuals, and all of the features are very important.\n",
        "\n",
        "That is why I am using all features, except multi-collinear features, to train the model."
      ],
      "metadata": {
        "id": "ylr0kW_yMpKx"
      }
    },
    {
      "cell_type": "code",
      "source": [
        "# plotting correlation heatmap to check multicollinearity.\n",
        "plt.figure(figsize=(15,4))\n",
        "sns.heatmap(data.drop(columns='TenYearCHD').corr(),annot=True)"
      ],
      "metadata": {
        "id": "B9qO52_hM6w_"
      },
      "execution_count": null,
      "outputs": []
    },
    {
      "cell_type": "markdown",
      "source": [
        "there is no multicollinearity within independent variables ( assuming threshold to be 0.7)"
      ],
      "metadata": {
        "id": "5Rw_mCbXNmwF"
      }
    },
    {
      "cell_type": "markdown",
      "source": [
        "##6.HANDLING IMBALANCED DATASET"
      ],
      "metadata": {
        "id": "U3S4d8ETTFLl"
      }
    },
    {
      "cell_type": "markdown",
      "source": [
        "##### Do you think the dataset is imbalanced? Explain Why."
      ],
      "metadata": {
        "id": "VFOzZv6IFROw"
      }
    },
    {
      "cell_type": "markdown",
      "source": [
        "YES, the target variables is imbalances as we saw while performing univariate analysis.\n",
        "\n",
        "When there are significantly more instances of certain classes than others, the issue of class imbalance typically arises. Class imbalance in the target class is a problem for machine learning models because it can result in biased predictions. That is why we need to balance the target class.\n",
        "\n"
      ],
      "metadata": {
        "id": "GeKDIv7pFgcC"
      }
    },
    {
      "cell_type": "code",
      "source": [
        "# Handling Imbalanced Dataset (If needed)\n",
        "\n",
        "## Handling target class imbalance using SMOTE\n",
        "from collections import Counter\n",
        "from imblearn.over_sampling import SMOTE\n",
        "\n",
        "print(f'Before Handling Imbalanced class {Counter(y)}')\n",
        "\n",
        "# Resampling the minority class\n",
        "smote = SMOTE(random_state=42)\n",
        "# fit predictor and target variable\n",
        "X, y = smote.fit_resample(X, y)\n",
        "\n",
        "print(f'After Handling Imbalanced class {Counter(y)}')"
      ],
      "metadata": {
        "id": "nQsRhhZLFiDs"
      },
      "execution_count": null,
      "outputs": []
    },
    {
      "cell_type": "markdown",
      "source": [
        "##### What technique did you use to handle the imbalance dataset and why? (If needed to be balanced)"
      ],
      "metadata": {
        "id": "TIqpNgepFxVj"
      }
    },
    {
      "cell_type": "markdown",
      "source": [
        "**The data set differs significantly. Our data, therefore, lack balance. We will use the Synthetic Minority Oversampling Technique (SMOTE) to resolve this issue.**\n",
        "\n",
        "SMOTE (Synthetic Minority Oversampling Technique) works by randomly selecting a minority class point and calculating its k-nearest neighbors. Between the selected point and its neighbors, the synthetic points are added. Continue with the steps until the data is balanced."
      ],
      "metadata": {
        "id": "qbet1HwdGDTz"
      }
    },
    {
      "cell_type": "markdown",
      "source": [
        "### 7. Data Splitting"
      ],
      "metadata": {
        "id": "BhH2vgX9EjGr"
      }
    },
    {
      "cell_type": "code",
      "source": [
        "# Split your data to train and test. Choose Splitting ratio wisely.\n",
        "from sklearn.model_selection import train_test_split\n",
        "X_train, X_test, y_train, y_test = train_test_split(X, y, test_size=0.2, random_state=33)\n",
        "\n",
        "print(X_train.shape)\n",
        "print(X_test.shape)"
      ],
      "metadata": {
        "id": "0CTyd2UwEyNM"
      },
      "execution_count": null,
      "outputs": []
    },
    {
      "cell_type": "markdown",
      "source": [
        "##### What data splitting ratio have you used and why?"
      ],
      "metadata": {
        "id": "qjKvONjwE8ra"
      }
    },
    {
      "cell_type": "markdown",
      "source": [
        "**I have used train-test splitting ratio as 80-20 which means 80% of data will be used to train the model while 20% will be used to test the model performance.**"
      ],
      "metadata": {
        "id": "Y2lJ8cobFDb_"
      }
    },
    {
      "cell_type": "markdown",
      "source": [
        "### 8. Data Scaling"
      ],
      "metadata": {
        "id": "rMDnDkt2B6du"
      }
    },
    {
      "cell_type": "code",
      "source": [
        "# Scaling your data\n",
        "from sklearn.preprocessing import StandardScaler\n",
        "scaler = StandardScaler()\n",
        "\n",
        "X_train = scaler.fit_transform(X_train)\n",
        "X_test = scaler.transform(X_test)"
      ],
      "metadata": {
        "id": "dL9LWpySC6x_"
      },
      "execution_count": null,
      "outputs": []
    },
    {
      "cell_type": "markdown",
      "source": [
        "## ***7. ML Model Implementation***"
      ],
      "metadata": {
        "id": "VfCC591jGiD4"
      }
    },
    {
      "cell_type": "code",
      "source": [
        "# Importing metrics for model evaluation.\n",
        "from sklearn.metrics import confusion_matrix, accuracy_score, precision_score, recall_score, f1_score, roc_auc_score, roc_curve\n",
        "from sklearn.metrics import classification_report,ConfusionMatrixDisplay"
      ],
      "metadata": {
        "id": "026Ebk5si9ja"
      },
      "execution_count": null,
      "outputs": []
    },
    {
      "cell_type": "markdown",
      "source": [
        "**Evaluation Metrics Used -**\n",
        "\n",
        "**Accuracy:** Simply put, accuracy is the percentage of times that the classifier correctly predicts. The ratio of the total number of predictions to the number of correct predictions is how accuracy is defined. If a model has a 99 percent accuracy rate, you might think it is doing very well. However, this is not always the case and can be misleading in some situations.\n",
        "When the target class is well-balanced, accuracy is useful, but it is not a good choice for unbalanced classes.\n",
        "\n",
        "**Confusion Matrix:** The Confusion Matrix is a performance measurement for classification problems in machine learning in which there can be two or more classes output. It is a table with actual and predicted value combinations. The table that is frequently used to describe the performance of a classification model on a set of test data for which the true values are known is referred to as a confusion matrix. It is extremely helpful for determining the AUC-ROC curves, precision, recall, and accuracy.\n",
        "\n",
        "**Precision:** Precision explains the percentage of correctly predicted cases that were actually successful. When False Positives are more of a concern than False Negatives, precision can be useful.\n",
        "\n",
        "A label's precision is calculated by dividing the number of predicted positives by the number of true positives.\n",
        "\n",
        "**Recall:** Recall describes the proportion of actual positive cases that our model correctly predicted. When False Negative is more important than False Positive, this metric is helpful. In medical cases, it matters whether we raise a false alarm or not, but the actual positive cases should not go unnoticed. The number of true positives divided by the total number of actual positives is the definition of recall for a label.\n",
        "\n",
        "**F1 Score:** This score incorporates both Precision and Recall metrics. When Precision and Recall are equal, it reaches its peak.\n",
        "\n",
        "The harmonic mean of recall and precision is the F1 Score.\n",
        "\n",
        "**AUC-ROC:** The Receiver Operator Characteristic (ROC) is a probability curve that separates the \"signal\" from the \"noise\" by plotting the TPR (True Positive Rate) against the FPR (False Positive Rate) at various threshold values. The measure of a classifier's ability to differentiate between classes is the Area Under the Curve (AUC). This simply indicates that the classifier is able to precisely differentiate between all Positive and Negative class points when AUC is equal to 1. The classifier would correctly identify all negatives as positives when the AUC was zero."
      ],
      "metadata": {
        "id": "BzXq-fFHr91x"
      }
    },
    {
      "cell_type": "code",
      "source": [
        "# empty list for appending performance metric score\n",
        "model_result = []\n",
        "\n",
        "#defining function to train input model and print evaluation matrix\n",
        "\n",
        "# empty list for appending performance metric score\n",
        "model_result = []\n",
        "\n",
        "def predict(ml_model, model_name):\n",
        "\n",
        "  '''\n",
        "  Pass the model and predict value.\n",
        "  Function will calculate all the eveluation metrics and appending those metrics score on model_result table.\n",
        "  Plotting confusion_matrix and roc_curve for test data.\n",
        "  '''\n",
        "\n",
        "  # model fitting\n",
        "  model = ml_model.fit(X_train, y_train)\n",
        "\n",
        "  # predicting value and probability\n",
        "  y_train_pred = model.predict(X_train)\n",
        "  y_test_pred = model.predict(X_test)\n",
        "  y_train_prob = model.predict_proba(X_train)[:,1]\n",
        "  y_test_prob = model.predict_proba(X_test)[:,1]\n",
        "\n",
        "\n",
        "  ''' Performance Metrics '''\n",
        "  # accuracy score  ---->  (TP+TN)/(TP+FP+TN+FN)\n",
        "  train_accuracy = accuracy_score(y_train, y_train_pred)\n",
        "  test_accuracy = accuracy_score(y_test, y_test_pred)\n",
        "  print(f'train accuracy : {round(train_accuracy,3)}')\n",
        "  print(f'test accuracy : {round(test_accuracy,3)}')\n",
        "\n",
        "  # precision score  ---->  TP/(TP+FP)\n",
        "  train_precision = precision_score(y_train, y_train_pred)\n",
        "  test_precision = precision_score(y_test, y_test_pred)\n",
        "  print(f'train precision : {round(train_precision,3)}')\n",
        "  print(f'test precision : {round(test_precision,3)}')\n",
        "\n",
        "  # recall score  ---->  TP/(TP+FN)\n",
        "  train_recall = recall_score(y_train, y_train_pred)\n",
        "  test_recall = recall_score(y_test, y_test_pred)\n",
        "  print(f'train recall : {round(train_recall,3)}')\n",
        "  print(f'test recall : {round(test_recall,3)}')\n",
        "\n",
        "  # f1 score  ---->  Harmonic Mean of Precision and Recall\n",
        "  train_f1 = f1_score(y_train, y_train_pred)\n",
        "  test_f1 = f1_score(y_test, y_test_pred)\n",
        "  print(f'train f1 : {round(train_f1,3)}')\n",
        "  print(f'test f1 : {round(test_f1,3)}')\n",
        "\n",
        "  # roc_auc score  ---->  It shows how well the model can differentiate between classes.\n",
        "  train_roc_auc = roc_auc_score(y_train, y_train_prob)\n",
        "  test_roc_auc = roc_auc_score(y_test, y_test_prob)\n",
        "  print(f'train roc_auc : {round(train_roc_auc,3)}')\n",
        "  print(f'test roc_auc : {round(test_roc_auc,3)}')\n",
        "  print('-'*80)\n",
        "\n",
        "  # classification report\n",
        "  print(f'classification report for test data \\n{classification_report(y_test, y_test_pred)}')\n",
        "  print('-'*80)\n",
        "\n",
        "\n",
        "  ''' plotting Confusion Matrix '''\n",
        "  ConfusionMatrixDisplay.from_predictions(y_test, y_test_pred)\n",
        "  plt.title('confusion matrix on Test data', weight='bold')\n",
        "  plt.show()\n",
        "  print('-'*80)\n",
        "\n",
        "  ''' plotting ROC curve '''\n",
        "  fpr, tpr, threshold = roc_curve(y_test, y_test_prob)\n",
        "  plt.plot(fpr,tpr, label=f'ROC - {model_name}')\n",
        "  plt.plot([0,1], [0,1], '--')\n",
        "  plt.title('ROC curve on Test data', weight='bold')\n",
        "  plt.xlabel('False Positive Rate----->')\n",
        "  plt.ylabel('True Positive Rate----->')\n",
        "  plt.legend(loc=4)\n",
        "\n",
        "\n",
        "  ''' actual value vs predicted value on test data'''\n",
        "  d = {'y_actual':y_test, 'y_predict':y_test_pred}\n",
        "  print(pd.DataFrame(data=d).head(10).T)                   # constructing a dataframe with both actual and predicted values\n",
        "  print('-'*80)\n",
        "\n",
        "   # using the score from the performance metrics to create the final model_result.\n",
        "  model_result.append({'model':model_name,\n",
        "                       'train_accuracy':train_accuracy,\n",
        "                       'test_accuracy':test_accuracy,\n",
        "                       'train_precision':train_precision,\n",
        "                       'test_precision':test_precision,\n",
        "                       'train_recall':train_recall,\n",
        "                       'test_recall':test_recall,\n",
        "                       'train_f1':train_f1,\n",
        "                       'test_f1':test_f1,\n",
        "                       'train_roc_auc':train_roc_auc,\n",
        "                       'test_roc_auc':test_roc_auc})\n",
        "\n"
      ],
      "metadata": {
        "id": "bibfDnfZWSo5"
      },
      "execution_count": null,
      "outputs": []
    },
    {
      "cell_type": "markdown",
      "source": [
        "### **ML Model - 1**"
      ],
      "metadata": {
        "id": "OB4l2ZhMeS1U"
      }
    },
    {
      "cell_type": "markdown",
      "source": [
        "#**Logistic Regression**\n",
        "\n",
        "Logistic regression is one of the simplest algorithms for estimating the relationship between independent variables and a single dependent binary variable and determining the likelihood of an event occurring.\n",
        "\n",
        "The regulation parameter C controls the trade-off between keeping the model simple (underfitting) and increasing its complexity (overfitting). With increasing values of C, the model becomes more complicated and the power of regulation decreases, resulting in an overfitting of the data."
      ],
      "metadata": {
        "id": "J7kw5qVekTJF"
      }
    },
    {
      "cell_type": "code",
      "source": [
        "# ML Model - 1 Implementation\n",
        "from sklearn.linear_model import LogisticRegression\n",
        "\n",
        "# Fit the Algorithm\n",
        "\n",
        "# Predict on the model\n",
        "\n",
        "predict(LogisticRegression(), 'LogisticRegression')"
      ],
      "metadata": {
        "id": "7ebyywQieS1U"
      },
      "execution_count": null,
      "outputs": []
    },
    {
      "cell_type": "markdown",
      "source": [
        "\n",
        "## **ML Model - 2**"
      ],
      "metadata": {
        "id": "dJ2tPlVmpsJ0"
      }
    },
    {
      "cell_type": "markdown",
      "source": [
        "#**SVM (Support Vector Machine)**\n",
        "\n",
        "Classification is carried out by a Support Vector Machine (SVM) by locating the hyperplane with the greatest margin between the two classes. The support vectors are the vectors (cases) that define the hyperplane. Finding a hyperplane in an N-dimensional space that clearly classifies the data points is the goal of the SVM algorithm.\n",
        "\n",
        "The number of features determines the hyperplane's dimension. The hyperplane is just a line if there are two input features. The hyperplane transforms into a two-dimensional plane when there are three input features. When the number of features is greater than three, it becomes difficult to imagine."
      ],
      "metadata": {
        "id": "0HsG19JalBQb"
      }
    },
    {
      "cell_type": "markdown",
      "source": [
        "#### 1. Explain the ML Model used and it's performance using Evaluation metric Score Chart."
      ],
      "metadata": {
        "id": "JWYfwnehpsJ1"
      }
    },
    {
      "cell_type": "code",
      "source": [
        "# Visualizing evaluation Metric Score chart\n",
        "import sklearn.svm\n",
        "predict(sklearn.svm.SVC(probability=True), 'SVM')"
      ],
      "metadata": {
        "id": "yEl-hgQWpsJ1"
      },
      "execution_count": null,
      "outputs": []
    },
    {
      "cell_type": "markdown",
      "source": [
        "### **ML Model - 3**"
      ],
      "metadata": {
        "id": "Fze-IPXLpx6K"
      }
    },
    {
      "cell_type": "markdown",
      "source": [
        "##**(KNN) K-Narest Neighbours**\n",
        "\n",
        "A supervised machine learning algorithm known as KNN or K-nearest neighbor can be used to solve classification and regression problems. K is not a non-parametric nearest neighbor, i.e. It makes no assumptions regarding the assumptions that underlie the data. An input or unseen data set is categorized here by the algorithm based on the characteristics shared by the closest data points. The distance between two points determines these closest neighbors. The distance metric methods that are utilized can be Euclidean Distance, Manhattan Distance, Minkowski, Cosine Similarity Measure etc)"
      ],
      "metadata": {
        "id": "nl3XeoTUpt5Q"
      }
    },
    {
      "cell_type": "code",
      "source": [
        "from sklearn.neighbors import KNeighborsClassifier\n",
        "# Checking the optimum value of the k:\n",
        "accuracy=[]\n",
        "\n",
        "# Iteratig for the optimum values of k\n",
        "for i in range(1,15):\n",
        "  knn=KNeighborsClassifier(n_neighbors=i)\n",
        "  knn.fit(X_train,y_train)\n",
        "  accuracy.append(knn.score(X_test, y_test))\n",
        "\n",
        "#plotting the k-value vs accuracy\n",
        "plt.title('k-NN Varying number of neighbors')\n",
        "plt.plot(range(1,15), accuracy)\n",
        "plt.xlabel('number of neighbours')\n",
        "plt.ylabel('Accuracy')\n",
        "plt.show()"
      ],
      "metadata": {
        "id": "FFrSXAtrpx6M"
      },
      "execution_count": null,
      "outputs": []
    },
    {
      "cell_type": "markdown",
      "source": [
        "The best accuracy is at K=1. So we will concentrate on low values of k; k=3 is superior to k=2. For binary classification, k is typically an odd number (to prevent ties) of at least three."
      ],
      "metadata": {
        "id": "ahtJrX_Yqbou"
      }
    },
    {
      "cell_type": "markdown",
      "source": [
        "#### 1. Explain the ML Model used and it's performance using Evaluation metric Score Chart."
      ],
      "metadata": {
        "id": "7AN1z2sKpx6M"
      }
    },
    {
      "cell_type": "code",
      "source": [
        "# Visualizing evaluation Metric Score chart\n",
        "predict(KNeighborsClassifier(n_neighbors=1), 'KNN')"
      ],
      "metadata": {
        "id": "xIY4lxxGpx6M"
      },
      "execution_count": null,
      "outputs": []
    },
    {
      "cell_type": "markdown",
      "source": [
        "#**Model Result**"
      ],
      "metadata": {
        "id": "ChkCtA4Vrx8t"
      }
    },
    {
      "cell_type": "code",
      "source": [
        "model_result = pd.DataFrame(model_result)\n",
        "round(model_result,3)"
      ],
      "metadata": {
        "id": "EIIICg3nr2g1"
      },
      "execution_count": null,
      "outputs": []
    },
    {
      "cell_type": "markdown",
      "source": [
        " Accuracy scores aren't very helpful when dealing with imbalanced data or classes.\n",
        "\n",
        "It is acceptable to classify a healthy individual as having a 10-year risk of coronary heart disease CHD (false positive) and to conduct additional medical tests; however, it is categorically unacceptable to fail to identify a particular patient or to classify a particular patient as healthy (false negative). As a result, the **model's recall score** will be the primary focus of our project.\n",
        "\n",
        "Balanced accuracy is a better metric than F1 when positives and negatives are equally important. When more attention is required, F1 is an excellent scoring metric for imbalanced data."
      ],
      "metadata": {
        "id": "hxjY-JfcvxjX"
      }
    },
    {
      "cell_type": "code",
      "source": [
        "# plotting graph to compare model performance of all the models\n",
        "fig, axs = plt.subplots(1,2, figsize=(15,5))\n",
        "sns.barplot(x=model_result['model'], y=model_result['test_recall'], ax=axs[0])   # Model vs Recall score\n",
        "sns.barplot(x=model_result['model'], y=model_result['test_f1'], ax=axs[1])       # Model vs F1 score\n",
        "plt.tight_layout()"
      ],
      "metadata": {
        "id": "OCYpvcPxvk7w"
      },
      "execution_count": null,
      "outputs": []
    },
    {
      "cell_type": "markdown",
      "source": [
        "clearly KNN is best performing model based on metrics. We didn't want to mispredict a person's safety when he has the risk of 10 years of CHD, so the final model we chose was KNN."
      ],
      "metadata": {
        "id": "qEv4K8XPwcSm"
      }
    },
    {
      "cell_type": "markdown",
      "source": [
        "# **Conclusion**"
      ],
      "metadata": {
        "id": "gCX9965dhzqZ"
      }
    },
    {
      "cell_type": "markdown",
      "source": [
        "In this project, we tackled a classification problem in which we had to classify and predict the 10-year risk of future coronary heart disease (CHD) for patients. The goal of the project was to develop a tool for the early detection and prevention of CHD, addressing a significant public health concern using machine learning techniques.\n",
        "\n",
        "1. There were approximately 3390 records and 16 attributes in the dataset.\n",
        "\n",
        "2. We started by importing the dataset, and necessary libraries and conducted exploratory data analysis (EDA) to get a clear insight into each feature by separating the dataset into numeric and categoric features. We did Univariate, Bivariate, and even multivariate analyses.\n",
        "\n",
        "3. After that, the outliers and null values were removed from the raw data and treated. Data were transformed to ensure that it was compatible with machine learning models.\n",
        "\n",
        "4. In feature engineering we transformed raw data into a more useful and informative form, by creating new features, encoding, and understanding important features. We handled target class imbalance using SMOTE.\n",
        "\n",
        "5. Then finally cleaned and scaled data was sent to various models, the metrics were made to evaluate the model, and we tuned the hyperparameters to make sure the right parameters were being passed to the model. To select the final model based on requirements, we checked model_result.\n",
        "\n",
        "6. When developing a machine learning model, it is generally recommended to track multiple metrics because each one highlights distinct aspects of model performance. We are, however, focusing more on the Recall score and F1 score because we are dealing with healthcare data and our data is unbalanced.\n",
        "\n",
        "7. Our highest recall score, 0.951 (95.1%), came from KNN.\n",
        "\n",
        "\n",
        "The recall score is of the utmost significance in the medical field, where we place a greater emphasis on reducing false negative values because we do not want to mispredict a person's safety when he is at risk.\n",
        "\n"
      ],
      "metadata": {
        "id": "Fjb1IsQkh3yE"
      }
    },
    {
      "cell_type": "markdown",
      "source": [
        "### ***Hurrah! You have successfully completed your Machine Learning Capstone Project !!!***"
      ],
      "metadata": {
        "id": "gIfDvo9L0UH2"
      }
    }
  ]
}